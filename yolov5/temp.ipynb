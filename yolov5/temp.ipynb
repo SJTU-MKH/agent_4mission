{
 "cells": [
  {
   "cell_type": "markdown",
   "metadata": {},
   "source": [
    "# 查看图像形状检测框坐标"
   ]
  },
  {
   "cell_type": "markdown",
   "metadata": {},
   "source": [
    "# 查看图像xing'zhunag检测框坐标"
   ]
  },
  {
   "cell_type": "markdown",
   "metadata": {},
   "source": [
    "# 查看图像形状检测框坐标"
   ]
  },
  {
   "cell_type": "code",
   "execution_count": 1,
   "metadata": {},
   "outputs": [],
   "source": [
    "import cv2\n",
    "img = cv2.imread(\"/home3/HWGroup/liujy/agent_4mission_detection/yolov5/data/images/bigshape.jpg\")\n",
    "h, w, _ = img.shape"
   ]
  },
  {
   "cell_type": "code",
   "execution_count": 2,
   "metadata": {},
   "outputs": [],
   "source": [
    "label_path = '/home3/HWGroup/liujy/agent_4mission_detection/yolov5/runs/detect/main_test/labels/bigshape.txt'\n",
    "with open(label_path) as file:\n",
    "    content=file.readlines()\n",
    "xywh = content[0].split(' ')[1:-1]"
   ]
  },
  {
   "cell_type": "code",
   "execution_count": 3,
   "metadata": {},
   "outputs": [],
   "source": [
    "XYWH = [float(i) for i in xywh]\n",
    "XYWH = [XYWH[0]*w, XYWH[1]*h, XYWH[2]*w, XYWH[3]*h]"
   ]
  },
  {
   "cell_type": "code",
   "execution_count": 4,
   "metadata": {},
   "outputs": [],
   "source": [
    "big = [XYWH[0]-XYWH[2]//2, XYWH[1]-XYWH[3]//2, XYWH[2], XYWH[3]]"
   ]
  },
  {
   "cell_type": "code",
   "execution_count": 5,
   "metadata": {},
   "outputs": [
    {
     "data": {
      "text/plain": [
       "[275.0, 33.99992, 230.0, 128.00016]"
      ]
     },
     "execution_count": 5,
     "metadata": {},
     "output_type": "execute_result"
    }
   ],
   "source": [
    "big"
   ]
  },
  {
   "cell_type": "code",
   "execution_count": 18,
   "metadata": {},
   "outputs": [
    {
     "name": "stdout",
     "output_type": "stream",
     "text": [
      "(128, 230, 3)\n",
      "[360.50009, 118.99992, 53.00005, 14.0]\n",
      "[368.49989, 98.499888, 26.99993, 12.999936]\n",
      "[412.99991, 85.49995200000001, 30.000049999999998, 16.999936]\n",
      "[455.9999, 76.99985600000001, 24.00004, 52.0]\n",
      "[292.99994, 96.99992, 30.000049999999998, 14.0]\n",
      "[301.49997, 118.99992, 26.99993, 26.0]\n",
      "[425.00004, 127.99992, 25.99989, 24.0]\n",
      "[331.4999, 96.99985600000001, 20.999989, 20.0]\n",
      "[400.99989, 48.99992, 30.000049999999998, 30.0]\n",
      "[452.99989, 52.99985600000001, 19.999995000000002, 20.0]\n",
      "[366.49996, 61.499952, 23.0, 20.999936]\n",
      "[299.49999, 47.499888000000006, 54.999900000000004, 39.000064]\n"
     ]
    }
   ],
   "source": [
    "crop = cv2.imread('/home3/HWGroup/liujy/agent_4mission_detection/yolov5/runs/detect/main_test/crops/graph/bigshape.jpg')\n",
    "h2, w2, _ = crop.shape\n",
    "print(crop.shape)\n",
    "label_path2 = '/home3/HWGroup/liujy/agent_4mission_detection/yolov5/runs/detect/sub_test/labels/bigshape.txt'\n",
    "with open(label_path2) as file:\n",
    "    content=file.readlines()\n",
    "for i in range(len(content)):\n",
    "    xywh = content[i].split(' ')[1:-1]\n",
    "    xywh = [float(j) for j in xywh]\n",
    "    xywh = [xywh[0]*w2, xywh[1]*h2, xywh[2]*w2, xywh[3]*h2]\n",
    "    xywh = [xywh[0]-xywh[2]//2, xywh[1]-xywh[3]//2, xywh[2], xywh[3]]\n",
    "    # print(xywh)  # 小图坐标左上角xywh \n",
    "    xywh = [big[0]+xywh[0], big[1]+xywh[1],xywh[2],xywh[3]]\n",
    "    print(xywh)  # 大图坐标左上角xywh\n"
   ]
  },
  {
   "cell_type": "code",
   "execution_count": null,
   "metadata": {},
   "outputs": [],
   "source": []
  }
 ],
 "metadata": {
  "kernelspec": {
   "display_name": "Python 3.6.13 ('yolov5': conda)",
   "language": "python",
   "name": "python3"
  },
  "language_info": {
   "codemirror_mode": {
    "name": "ipython",
    "version": 3
   },
   "file_extension": ".py",
   "mimetype": "text/x-python",
   "name": "python",
   "nbconvert_exporter": "python",
   "pygments_lexer": "ipython3",
   "version": "3.6.13"
  },
  "orig_nbformat": 4,
  "vscode": {
   "interpreter": {
    "hash": "fc1f57a4b107e657fcf6f6e5f61550706ff2a6a2746ba32ccd89b21e7725f021"
   }
  }
 },
 "nbformat": 4,
 "nbformat_minor": 2
}
